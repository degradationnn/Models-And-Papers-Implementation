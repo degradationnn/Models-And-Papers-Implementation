{
 "cells": [
  {
   "cell_type": "code",
   "execution_count": null,
   "metadata": {},
   "outputs": [
    {
     "name": "stdout",
     "output_type": "stream",
     "text": [
      "[[ 1.  2.  3.  1.  2.  3.  4.  6.  9.]\n",
      " [ 4.  5.  6. 16. 20. 24. 25. 30. 36.]\n",
      " [ 7.  8.  9. 49. 56. 63. 64. 72. 81.]]\n"
     ]
    },
    {
     "data": {
      "text/plain": [
       "{'Accuracy': 1.0, 'Recall': 1.0, 'Precision': 1.0, 'F1 Score': 1.0}"
      ]
     },
     "execution_count": 1,
     "metadata": {},
     "output_type": "execute_result"
    }
   ],
   "source": [
    "from sklearn.datasets import load_iris\n",
    "\n",
    "from NaiveBayes import GaussianNaiveBayes\n",
    "import numpy as np\n",
    "import sys\n",
    "import os\n",
    "sys.path.append(os.path.abspath(os.path.join('..', 'Preprocessing')))\n",
    "from Preprocessing import Train_And_Test\n",
    "\n",
    "data = load_iris()\n",
    "X = np.array(data.data)\n",
    "y = np.array(data.target)\n",
    "    \n",
    "X_train, X_test, y_train, y_test = Train_And_Test(X, y, 0.8)\n",
    "\n",
    "model = GaussianNaiveBayes()\n",
    "\n",
    "model.fit(X_train, y_train)\n",
    "\n",
    "\n",
    "model.score(X_test, y_test)\n"
   ]
  },
  {
   "cell_type": "code",
   "execution_count": null,
   "metadata": {},
   "outputs": [],
   "source": []
  }
 ],
 "metadata": {
  "kernelspec": {
   "display_name": "Python 3",
   "language": "python",
   "name": "python3"
  },
  "language_info": {
   "codemirror_mode": {
    "name": "ipython",
    "version": 3
   },
   "file_extension": ".py",
   "mimetype": "text/x-python",
   "name": "python",
   "nbconvert_exporter": "python",
   "pygments_lexer": "ipython3",
   "version": "3.12.2"
  }
 },
 "nbformat": 4,
 "nbformat_minor": 2
}
